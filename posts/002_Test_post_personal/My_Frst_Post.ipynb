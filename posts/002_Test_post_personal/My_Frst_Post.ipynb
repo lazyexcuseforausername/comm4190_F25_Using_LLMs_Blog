{
 "cells": [
  {
   "cell_type": "raw",
   "id": "a7341279-d21e-4afd-8f1a-400ab54480ca",
   "metadata": {},
   "source": [
    "---\n",
    "title: \"Introducing Eleni\"\n",
    "description: \"Who I am and why I'm here\" \n",
    "author: \"Eleni\"\n",
    "date: \"9/3/2025\"\n",
    "categories:\n",
    "  - LLMs\n",
    "  - Social\n",
    "  - Testing\n",
    "---\n"
   ]
  },
  {
   "cell_type": "markdown",
   "id": "aa5ecddb-68d7-4606-a129-d8ee546e81dc",
   "metadata": {},
   "source": [
    "Hi Everyone! Here's a little bit about me\n",
    "- Favorite snack: Chips & Salsa\n",
    "- Major: Economics"
   ]
  },
  {
   "cell_type": "markdown",
   "id": "1085b385-0e8c-4f11-9306-2885ee54e8c5",
   "metadata": {},
   "source": [
    "![Headshot](./Me.png)\n",
    "\n"
   ]
  },
  {
   "cell_type": "code",
   "execution_count": null,
   "id": "3f80cb16-5bd3-4131-b27e-263a7b343758",
   "metadata": {},
   "outputs": [],
   "source": []
  }
 ],
 "metadata": {
  "kernelspec": {
   "display_name": "Python 3-12 (COMM4190)",
   "language": "python",
   "name": "python3-12_comm4190"
  },
  "language_info": {
   "codemirror_mode": {
    "name": "ipython",
    "version": 3
   },
   "file_extension": ".py",
   "mimetype": "text/x-python",
   "name": "python",
   "nbconvert_exporter": "python",
   "pygments_lexer": "ipython3",
   "version": "3.12.11"
  }
 },
 "nbformat": 4,
 "nbformat_minor": 5
}
