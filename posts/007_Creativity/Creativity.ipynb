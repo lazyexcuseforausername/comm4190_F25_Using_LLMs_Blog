{
 "cells": [
  {
   "cell_type": "raw",
   "id": "a7341279-d21e-4afd-8f1a-400ab54480ca",
   "metadata": {},
   "source": [
    "---\n",
    "title: \"How LLMs Can Supercharge Creativity\"\n",
    "description: \"Exploring how Large Language Models (LLMs) can spark creativity. They can help brainstorm new ideas, reframe problems, and generate alternative perspectives, making them useful partners for students, writers, and even group projects. \" \n",
    "author: \"Eleni\"\n",
    "date: \"9/22/2025\"\n",
    "categories:\n",
    "  - LLMs\n",
    "  - Creativity\n",
    "  - Student\n",
    "---\n"
   ]
  },
  {
   "cell_type": "markdown",
   "id": "63d7da89-09cc-4dfe-84de-d0a943306dd9",
   "metadata": {},
   "source": [
    "## Reflecting On The Product Task \n",
    "Creativity is often about breaking out of the obvious and finding fresh connections. Since LLMs are trained on such a wide variety of text, they are especially good at generating lots of different perspectives from a single concept. They don’t replace human imagination, but they can definitely aid in the \"brainstorming phase\". I wonder if it's possible for LLMs to cure \"writers block\" and help our imaginations start running wild when they won't seem to budge.\n",
    "\n",
    "---\n",
    "\n",
    "## Demo: Creative Brainstorming with ChatGPT-4o \n",
    "Below is an example of some of the brainstorming that these models can do"
   ]
  },
  {
   "cell_type": "markdown",
   "id": "57b0f188-6da4-45cc-b9bc-74409ffec876",
   "metadata": {},
   "source": [
    "<div style=\"background-color: #f8f8f8; padding: 10px; border-radius: 8px;\">\n",
    "    <blockquote>\n",
    "        Generate 10 creative ideas for a podcast about technology and everyday life\n",
    "    </blockquote>\n",
    "</div>\n"
   ]
  },
  {
   "cell_type": "markdown",
   "id": "ac007a9a-1867-45e7-8c54-1ad90931391d",
   "metadata": {},
   "source": [
    "<div style=\"background-color: #f0f8ff; padding: 10px; border-radius: 8px;\">\n",
    "    <blockquote>\n",
    "    Here are 10 creative podcast ideas that explore the intersection of technology and everyday life:\n",
    "1. Smart Home, Smarter Life\n",
    "        \n",
    "Episodes focus on how smart devices—from thermostats to robot vacuums—are reshaping daily routines. Each week, dive into one gadget and explore the hidden pros, cons, and cultural quirks it creates.\n",
    "        \n",
    "2. The Digital Coffee Break\n",
    "\n",
    "   \n",
    "A casual format where each episode covers one small way tech slips into our day: notifications, digital wallets, Zoom fatigue, or even the etiquette of texting vs. calling. Short, digestible episodes—perfect for a literal coffee break.\n",
    "\n",
    "3. Tech Time Travel\n",
    "\n",
    "   \n",
    "Explore how everyday tech we take for granted today (like GPS, streaming, or online dating) looked in its early days and how it evolved. Bonus episodes could imagine the future versions of today’s emerging tools.\n",
    "\n",
    "\n",
    "4. Invisible Algorithms\n",
    "\n",
    "   \n",
    "Highlight the algorithms that secretly shape daily choices: playlists, ride-sharing prices, grocery delivery, and more. Bring in experts to unpack how these black boxes affect our personal lives.\n",
    "\n",
    "\n",
    "5. Generations in Tech\n",
    "\n",
    "   \n",
    "Each episode compares how different age groups (Boomers, Gen X, Millennials, Gen Z) use the same tech—like Venmo, TikTok, or e-readers—and what it reveals about culture and adaptation.\n",
    "\n",
    "\n",
    "6. The Offline Diaries\n",
    "\n",
    "    \n",
    "Interview people who tried disconnecting from a certain technology for a week (e.g., no smartphone, no social media, no online shopping). Share stories of struggles, surprises, and what they rediscovered offline.\n",
    "\n",
    "\n",
    "7. The Gadget Autopsy\n",
    "\n",
    "    \n",
    "Pick one everyday object (like headphones, microwaves, or Fitbits) and explore its history, design, engineering, and how it transformed social behaviors. Blend storytelling with tech analysis.\n",
    "\n",
    "\n",
    "8. App of My Life\n",
    "\n",
    "    \n",
    "Guests share one app that changed their daily life—could be Google Maps, Duolingo, or a meditation app—and tell personal stories of how it shaped their habits, relationships, or career.\n",
    "\n",
    "\n",
    "9. The Tech Comfort Zone\n",
    "\n",
    "    \n",
    "Episodes explore the emotional side of tech: Why do people cling to old devices? Why is the iPhone Notes app a diary? Why do we feel anxious when we lose Wi-Fi?\n",
    "\n",
    "\n",
    "10. Future at the Kitchen Table\n",
    "    \n",
    "Look at how emerging technologies (AI assistants, VR shopping, drones) might soon play a role in ordinary household life. Discuss what’s hype vs. what’s practical, always bringing it back to the “everyday person.”\n",
    "    </blockquote>\n",
    "</div>\n"
   ]
  },
  {
   "cell_type": "markdown",
   "id": "abf2025e-8824-48d0-9753-44a8b6a166a3",
   "metadata": {},
   "source": [
    "The large language model outputs a bunch of ideas for the user to build off of! The remarkable part is that thi soccurs in (usually) seconds.\n",
    "\n",
    "In this example, the LLM did produce 10 items for us, but that's **not** always the case. When that occurs, different prompts that ask a similar question can be helpful, or even simply **rerunning** the same prompt a few times.\n",
    "\n",
    "I may be biased but not all of these items are very good either. For example, \"App of My Life\" is not a very intriquing podcast title & I'm not so sure about the content either. However, the basis of this idea generation is to help **us** open up our own minds to new ideas and spark our own imaginations.\n",
    "\n",
    "Plus! if there is an idea we particularly like, we can build it up even more with the LLM. \n",
    "\n",
    "Let's explore \"Generations in Tech\"."
   ]
  },
  {
   "cell_type": "markdown",
   "id": "b7314cd9-35cb-4b48-8eaa-bddfd9fb8ffe",
   "metadata": {},
   "source": [
    "<div style=\"background-color: #f8f8f8; padding: 10px; border-radius: 8px;\">\n",
    "    <blockquote>\n",
    "        I really like the \"Generations in Tech\" option. Can you give me some ideas for a first episode? How long should it be to keep listeners attention?\n",
    "    </blockquote>\n",
    "</div>\n"
   ]
  },
  {
   "cell_type": "markdown",
   "id": "4b24e1f2-9024-4df8-9d1a-ba0a89979b04",
   "metadata": {},
   "source": [
    "<div style=\"background-color: #f0f8ff; padding: 10px; border-radius: 8px;\">\n",
    "    <blockquote>\n",
    "    <h3>🎙️ Generations in Tech: Episode 1 Ideas</h3>\n",
    "\n",
    "<b>Episode Concept:</b> *“Venmo vs. Cash: How Generations Pay Each Other”*  \n",
    "- **Hook:** Start with a story about the awkwardness of “Do you have Venmo?” vs. “Can I give you cash?”  \n",
    "- **Content Flow:**  \n",
    "  1. Quick history of peer-to-peer payments (PayPal → Venmo → Zelle → Apple/Google Pay).  \n",
    "  2. Generational breakdown:  \n",
    "     - Boomers: trust issues with digital money.  \n",
    "     - Gen X: reluctant but practical adopters.  \n",
    "     - Millennials: Venmo as a *social feed of transactions*.  \n",
    "     - Gen Z: expect instant, seamless, emoji-filled payments.  \n",
    "  3. Funny or awkward stories (splitting bills, gifts, forgotten rent).  \n",
    "  4. Wrap-up: What this says about *trust, transparency, and etiquette* in tech.  \n",
    "\n",
    "---\n",
    "\n",
    "<b>Other First-Episode Angles:</b>  \n",
    "- *“Streaming Wars: Why Boomers Still Love Cable”*  \n",
    "- *“Password Chaos: From Post-It Notes to Face ID”*  \n",
    "- *“Group Chats Across Generations”*  \n",
    "\n",
    "---\n",
    "\n",
    "<b>Episode Length Recommendation:</b>  \n",
    "- **20–30 minutes** works best for a first episode.  \n",
    "- If longer, break into clear *segments* (history → stories → debate → takeaway).  \n",
    "- Keep intros short (~2 minutes max) and get to the relatable part quickly.  \n",
    "    </blockquote>\n",
    "</div>\n"
   ]
  },
  {
   "cell_type": "markdown",
   "id": "2f2c4f68-7c1c-4dd7-b3ae-a6a1dd104242",
   "metadata": {},
   "source": [
    "In this response, we get an **emoji** which I found interesting. I've been getting these alot more with my promts to **chatgpt-4o** and even **chatgpt-5**.\n",
    "Have you been experiencing this too? Let me know :)\n",
    "\n",
    "But anyway, chat gave a great possible outline for the user to mold into precisely what they'd like. For a lot of individuals, the hardest part is the setup, so even just having a template like this can be very helpful. \n",
    "Utilizing LLMs this way has the potential to save thousands of hours for people because it can generate these rough starting points in seconds where it may take an individual an entire working day to come up with 10 distinct podcast concepts like earlier. "
   ]
  },
  {
   "cell_type": "markdown",
   "id": "1d6999b0-8d94-4683-ba3a-3abdecbfbfe9",
   "metadata": {},
   "source": [
    "## Thanks for reading!"
   ]
  },
  {
   "cell_type": "code",
   "execution_count": null,
   "id": "83219d20-8af2-4822-be62-c0f121301251",
   "metadata": {},
   "outputs": [],
   "source": []
  }
 ],
 "metadata": {
  "kernelspec": {
   "display_name": "Python 3-12 (COMM4190)",
   "language": "python",
   "name": "python3-12_comm4190"
  },
  "language_info": {
   "codemirror_mode": {
    "name": "ipython",
    "version": 3
   },
   "file_extension": ".py",
   "mimetype": "text/x-python",
   "name": "python",
   "nbconvert_exporter": "python",
   "pygments_lexer": "ipython3",
   "version": "3.12.11"
  }
 },
 "nbformat": 4,
 "nbformat_minor": 5
}
