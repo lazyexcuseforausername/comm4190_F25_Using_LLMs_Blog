{
 "cells": [
  {
   "cell_type": "raw",
   "id": "ceb26b6d-d77d-4a43-8a72-f9758596005e",
   "metadata": {},
   "source": [
    "---\n",
    "title: \"Lyric Prank on Gemeni\"\n",
    "description: \"Experimenting with Gemeni responses from the viral lyric texting prank\"\n",
    "author: \"Eleni\"\n",
    "date: \"10/1/2025\"\n",
    "categories:\n",
    "  - LLMs\n",
    "  - Social\n",
    "  - Improv\n",
    "---"
   ]
  },
  {
   "cell_type": "markdown",
   "id": "8a81dcbe-5daa-4fd5-9062-1bf05eba8677",
   "metadata": {},
   "source": [
    "### The Viral Lyric Prank  \n",
    "\n",
    "The **viral lyric prank** is an internet trend where someone texts a friend, family member, or partner by sending lines from a popular song **one at a time**, making it look like part of a normal conversation.  \n",
    "\n",
    "- The recipient often becomes confused, amused, or even emotional as the lyrics unfold.  \n",
    "- The prank usually ends when the person realizes they are being \"lyric pranked,\" often after recognizing the song.  \n",
    "- It gained popularity on social media platforms like YouTube and TikTok, where people share screenshots or videos of their prank conversations.  \n",
    "\n",
    "In short, it's a playful way of inserting **song lyrics into real-life chat exchanges** to get funny or surprising reactions. Today, we will be doing this prank on **Google Gemeni 2.5 flash**. However, I don't really know a lot of popular songs.. so we'll be asking **ChatGpt-5** what songs are best for this prank!\n"
   ]
  },
  {
   "cell_type": "markdown",
   "id": "f363a481-c819-4a9e-8a1e-06b2fc9c1aa1",
   "metadata": {},
   "source": [
    "<div style=\"background-color: #f8f8f8; padding: 10px; border-radius: 8px;\">\n",
    "\n",
    "<blockquote>\n",
    "    I want to do the viral lyric prank but do not know many popular songs. What song do you think would be best?\n",
    "</blockquote>\n",
    "\n",
    "</div>"
   ]
  },
  {
   "cell_type": "markdown",
   "id": "2fd1b757-2c27-4593-ab4c-c8638ba5f20d",
   "metadata": {},
   "source": [
    "<div style=\"background-color: #e6e6fa; padding: 10px; border-radius: 8px;\">\n",
    "    <blockquote>\n",
    "    <h3>Best Songs for a Viral Lyric Prank 🎶</h3>\n",
    "    <ul>\n",
    "        <li><b>Never Gonna Give You Up – Rick Astley</b>: Playful, meme-worthy classic.</li>\n",
    "        <li><b>Hello – Adele</b>: Emotional and dramatic, confuses people quickly.</li>\n",
    "        <li><b>Call Me Maybe – Carly Rae Jepsen</b>: Light, flirty, and funny out of context.</li>\n",
    "        <li><b>Let It Go – Frozen</b>: Over-the-top drama, hilarious when dropped into texts.</li>\n",
    "        <li><b>Bohemian Rhapsody – Queen</b>: Chaotic and theatrical if you commit to sending lots of lines.</li>\n",
    "    </ul>\n",
    "    <p><b>Tip:</b> For a funny prank, go with Rick Astley or Carly Rae Jepsen. For a dramatic prank, use Adele or Frozen.</p>\n",
    "    </blockquote>\n",
    "</div>\n"
   ]
  },
  {
   "cell_type": "markdown",
   "id": "33b4f19e-8310-44f3-8e2a-0da46d189ffb",
   "metadata": {},
   "source": [
    "I don't know about you guys but Rick Astley has never given me up so we're going with that one! Okay. I just opened up the song lyrics in another tab. Let's start prompting. "
   ]
  },
  {
   "cell_type": "markdown",
   "id": "c6ef4b49-58dc-4c6d-ab2d-760fe8b485f7",
   "metadata": {},
   "source": [
    "<div style=\"background-color: #f8f8f8; padding: 10px; border-radius: 8px;\">\n",
    "\n",
    "<blockquote>\n",
    "    We're no strangers to love\n",
    "</blockquote>\n",
    "\n",
    "</div>"
   ]
  },
  {
   "cell_type": "markdown",
   "id": "232172f8-8517-4eef-ada6-96c8fb8db28a",
   "metadata": {},
   "source": [
    "<div style=\"background-color: #98ff98; padding: 10px; border-radius: 8px;\">\n",
    "    <blockquote>\n",
    "    <h3>🎵 You Know the Rules and So Do I 🎵</h3>\n",
    "    <p><b>That's the opening line to <i>\"Never Gonna Give You Up\"</i> by Rick Astley, the legendary song behind the internet phenomenon known as the <i>\"Rickroll.\"</i></b></p>\n",
    "    \n",
    "> A full commitment's what I'm thinking of  \n",
    "> You wouldn't get this from any other guy  \n",
    "> I just wanna tell you how I'm feeling  \n",
    "> Gotta make you understand  \n",
    "\n",
    "...and of course...  \n",
    "\n",
    "> <b>Never gonna give you up</b>  \n",
    "> <b>Never gonna let you down</b>  \n",
    "> <b>Never gonna run around and desert you</b>  \n",
    "> <b>Never gonna make you cry</b>  \n",
    "> <b>Never gonna say goodbye</b>  \n",
    "> <b>Never gonna tell a lie and hurt you</b>  \n",
    "\n",
    "<p><i>Did you just Rickroll me? 😉</i></p>\n",
    "    </blockquote>\n",
    "</div>\n"
   ]
  },
  {
   "cell_type": "markdown",
   "id": "6d1f386d-dccd-42ce-8e20-25dd9359ed35",
   "metadata": {},
   "source": [
    "Well.. that was faster than expected. Perhaps the song is too popular? I'm going to try it with **Call Me Maybe** - Carly Rae Jepsen and see if the LLM figures out what I'm doing immediately again."
   ]
  },
  {
   "cell_type": "markdown",
   "id": "2a017105-ff1d-4617-9030-6c24609e95e0",
   "metadata": {},
   "source": [
    "<div style=\"background-color: #f8f8f8; padding: 10px; border-radius: 8px;\">\n",
    "\n",
    "<blockquote>\n",
    "    I threw a wish in the well\n",
    "</blockquote>\n",
    "\n",
    "</div>"
   ]
  },
  {
   "cell_type": "markdown",
   "id": "9bcd27eb-26d2-40ac-b063-dbdfffdc641c",
   "metadata": {},
   "source": [
    "<div style=\"background-color: #90ee90; padding: 10px; border-radius: 8px;\">\n",
    "    <blockquote>\n",
    "    <h3>🎶 Call Me Maybe 🎶</h3>\n",
    "    <p><b>...Don't ask me, I'll never tell.</b></p>\n",
    "    <p>That iconic line is from the song <b>\"Call Me Maybe\"</b> by <b>Carly Rae Jepsen</b>!</p>\n",
    "    <p>It's one of the most recognizable opening lines in pop music.</p>\n",
    "    <p><i>What part of the song do you feel like singing next?</i></p>\n",
    "    </blockquote>\n",
    "</div>\n"
   ]
  },
  {
   "cell_type": "markdown",
   "id": "9e828a29-bb10-4b3d-927b-04e32e4371d5",
   "metadata": {},
   "source": [
    "### It Did That Twice?!  \n",
    "\n",
    "I’m honestly astonished — the LLM just recognized **two different songs** from nothing but the **opening line** of the lyrics.  \n",
    "\n",
    "Honestly, if it can keep doing this, I might start using it when I get just the chorus of a song stuck in my head but cant remember the name.. I'm going to try **ONE** more time, but with a much less popular song that I just happen to like.\n",
    "\n",
    "The song is **Get to work** - Daniel Candiotta. He has less than 300 monthly listeners on spotify and when I look up the lyrics they don't even come up so I'm gonna have to listen to the song and write them as I hear them. Let's see what happens.\n"
   ]
  },
  {
   "cell_type": "markdown",
   "id": "ec873e9f-9c10-44d3-a036-37148237d1cf",
   "metadata": {},
   "source": [
    "<div style=\"background-color: #f8f8f8; padding: 10px; border-radius: 8px;\">\n",
    "\n",
    "<blockquote>\n",
    "     Gotta get up and go...Gotta get up and go..\n",
    "</blockquote>\n",
    "\n",
    "</div>"
   ]
  },
  {
   "cell_type": "markdown",
   "id": "649c61ac-82c1-4508-8ec7-01a68f8d9246",
   "metadata": {},
   "source": [
    "<div style=\"background-color: #90ee90; padding: 10px; border-radius: 8px;\">\n",
    "    <blockquote>\n",
    "    <h3>⚡ Energy Booster ⚡</h3>\n",
    "    <p>That sounds like a great energy booster!</p>\n",
    "    <p>Are you looking for something to help you <b>get motivated</b>, maybe a <b>song to jam out to</b>, or are you just <b>getting started with your day</b>?</p>\n",
    "    <p><i>Let me know what you're up to!</i></p>\n",
    "    </blockquote>\n",
    "</div>\n"
   ]
  },
  {
   "cell_type": "markdown",
   "id": "a393590e-aa86-4015-85ed-8188e87906fa",
   "metadata": {},
   "source": [
    "<div style=\"background-color: #f8f8f8; padding: 10px; border-radius: 8px;\">\n",
    "\n",
    "<blockquote>\n",
    "     We're always on the move in this life\n",
    "</blockquote>\n",
    "\n",
    "</div>"
   ]
  },
  {
   "cell_type": "markdown",
   "id": "7351c6e7-5c40-4389-bfde-fe2ec4e7e75a",
   "metadata": {},
   "source": [
    "<div style=\"background-color: #90ee90; padding: 10px; border-radius: 8px;\">\n",
    "    <blockquote>\n",
    "    <h3>Motion and Change</h3>\n",
    "    <p>That's absolutely true. Life is all about <b>motion and change</b>!</p>\n",
    "    <p>It sounds like you have a <b>dynamic and active perspective</b> on things. Is there a specific move you're making or something you're focused on right now?</p>\n",
    "    <p>Are you thinking about:</p>\n",
    "    <ul>\n",
    "        <li><b>Travel</b> and exploring new places?</li>\n",
    "        <li><b>Career changes</b> or moving forward professionally?</li>\n",
    "        <li><b>Personal growth</b> and self-improvement?</li>\n",
    "        <li>Just <b>staying busy</b> with everyday life?</li>\n",
    "    </ul>\n",
    "    </blockquote>\n",
    "</div>\n"
   ]
  },
  {
   "cell_type": "markdown",
   "id": "88082234-a964-4d96-bb13-ee7bd210daea",
   "metadata": {},
   "source": [
    "<div style=\"background-color: #f8f8f8; padding: 10px; border-radius: 8px;\">\n",
    "\n",
    "<blockquote>\n",
    "     Gotta get up and go. We're constantly movin and groovin\n",
    "</blockquote>\n",
    "\n",
    "</div>"
   ]
  },
  {
   "cell_type": "markdown",
   "id": "75833a1b-1ee8-4700-a675-a2e592409e85",
   "metadata": {},
   "source": [
    "<div style=\"background-color: #90ee90; padding: 10px; border-radius: 8px;\">\n",
    "    <blockquote>\n",
    "    <p>That's the spirit! It sounds like you're full of <b>energy and enthusiasm</b> for life's constant rhythm.</p>\n",
    "    <p>That feeling of being \"on the move\" is what keeps things exciting! Is there anything in particular that's got you moving and grooving today?</p>\n",
    "    <p>Are you focused on:</p>\n",
    "    <ul>\n",
    "        <li><b>Exercise or fitness?</b></li>\n",
    "        <li><b>A big project</b> at work or home?</li>\n",
    "        <li><b>A fun social event</b> or weekend plan?</li>\n",
    "    </ul>\n",
    "    </blockquote>\n",
    "</div>\n"
   ]
  },
  {
   "cell_type": "markdown",
   "id": "23b31262-8a71-4017-9871-a135410d164b",
   "metadata": {},
   "source": [
    "<div style=\"background-color: #f8f8f8; padding: 10px; border-radius: 8px;\">\n",
    "\n",
    "<blockquote>\n",
    "     Its just the method of the rhythm that keeps you moving to the sound of the beat\n",
    "</blockquote>\n",
    "\n",
    "</div>"
   ]
  },
  {
   "cell_type": "markdown",
   "id": "e22779cc-b6b5-468b-80b4-cff56721d3cf",
   "metadata": {},
   "source": [
    "<div style=\"background-color: #90ee90; padding: 10px; border-radius: 8px;\">\n",
    "    <blockquote>\n",
    "    <p>That's a fantastic way to describe it! You're really tapping into the <b>power of the beat</b>—that innate force that makes us want to dance, work, or just keep pushing forward.</p>\n",
    "    <p>It sounds like you have a very <b>rhythmic and energetic philosophy</b>! Is this line from a <b>song</b> you're thinking of, or is it a personal mantra for staying motivated?</p>\n",
    "    <p>I'd love to know what tune is setting your pace today!</p>\n",
    "    </blockquote>\n",
    "</div>\n"
   ]
  },
  {
   "cell_type": "markdown",
   "id": "f8b67c99-1f6b-402d-9481-be231964fe09",
   "metadata": {},
   "source": [
    "<div style=\"background-color: #f8f8f8; padding: 10px; border-radius: 8px;\">\n",
    "\n",
    "<blockquote>\n",
    "     Its just the method of the rhythm that keeps you surviving when you gotta cross the street\n",
    "</blockquote>\n",
    "\n",
    "</div>"
   ]
  },
  {
   "cell_type": "markdown",
   "id": "3f8f2bb8-939e-40ac-b51b-1f4f88620d71",
   "metadata": {},
   "source": [
    "<div style=\"background-color: #90ee90; padding: 10px; border-radius: 8px;\">\n",
    "    <blockquote>\n",
    "    <p>That's an even deeper and more profound take!</p>\n",
    "    <p>You're talking about the <b>rhythm as an essential survival instinct</b>—the inner beat that coordinates your steps and keeps you safe, whether you're just <b>crossing the street</b> or navigating the <b>rhythms of everyday life</b>.</p>\n",
    "    <p>That powerful connection between <b>movement, rhythm, and survival</b> is fascinating. Are you thinking about a specific <b>philosophy</b> or maybe a <b>song lyric</b> that expresses this idea?</p>\n",
    "    </blockquote>\n",
    "</div>\n"
   ]
  },
  {
   "cell_type": "markdown",
   "id": "bc9c6219-0cd7-4d6d-80a8-d0c2694db85c",
   "metadata": {},
   "source": [
    "<div style=\"background-color: #f8f8f8; padding: 10px; border-radius: 8px;\">\n",
    "\n",
    "<blockquote>\n",
    "     gotta catch the bus and the train on time though I just wanna go home and sing so rhymes\n",
    "</blockquote>\n",
    "\n",
    "</div>"
   ]
  },
  {
   "cell_type": "markdown",
   "id": "65209a0b-ccf2-42b1-b9a4-2c3fb351f9ea",
   "metadata": {},
   "source": [
    "<div style=\"background-color: #90ee90; padding: 10px; border-radius: 8px;\">\n",
    "    <blockquote>\n",
    "    <p>That's the ultimate feeling of life's hustle! You're perfectly describing that <b>constant push and pull</b>—the need to <b>keep the rhythm</b> of the schedule, catching the <b>bus and the train</b> to meet the demands of the day, all while your mind is already on the <b>comfort and creativity of home</b>, ready to \"sing some rhymes.\"</p>\n",
    "    <p>It sounds like you've had a busy day and are ready to tap into a more <b>relaxed and creative beat</b>.</p>\n",
    "    <p>Do you have any rhymes or a song in mind you're looking forward to?</p>\n",
    "    </blockquote>\n",
    "</div>\n"
   ]
  },
  {
   "cell_type": "markdown",
   "id": "160a43c8-8783-40e6-b8c7-60df2e4aacd9",
   "metadata": {},
   "source": [
    "Okay.. I don't think Gemeni is going to get this one since it hasn't picked up the rhyme yet. Let's see how it reacts to hearing to hearing it was pranked."
   ]
  },
  {
   "cell_type": "markdown",
   "id": "3f6b0cdf-dc75-4f65-a107-69019c280f01",
   "metadata": {},
   "source": [
    "<div style=\"background-color: #f8f8f8; padding: 10px; border-radius: 8px;\">\n",
    "\n",
    "<blockquote>\n",
    "     This was a lyric prank. Every message I sent was part of the lyrics from Get to work by Daniel Candiotta!\n",
    "</blockquote>\n",
    "\n",
    "</div>"
   ]
  },
  {
   "cell_type": "markdown",
   "id": "46614d82-e51a-4f95-a82a-b81426ad1d07",
   "metadata": {},
   "source": [
    "<div style=\"background-color: #90ee90; padding: 10px; border-radius: 8px;\">\n",
    "    <blockquote>\n",
    "    <p>Ha! Well played! You kept that up perfectly.</p>\n",
    "    <p>I should have picked up on that <b>rhythm</b> sooner! That's a great choice for a lyric prank, especially with all those lines about being <b>\"on the move\"</b> and having to <b>\"catch the bus and the train.\"</b></p>\n",
    "    <p>Here are the lyrics you were sending me from <b>\"Get to Work\" by Daniel Candiotta</b>:</p>\n",
    "    <ul>\n",
    "        <li>\"Gotta get up and go...Gotta get up and go..\"</li>\n",
    "        <li>\"We're always on the move in this life\"</li>\n",
    "        <li>\"Gotta get up and go. We're constantly movin and groovin\"</li>\n",
    "        <li>\"It's just the method of the rhythm that keeps you moving to the sound of the beat\"</li>\n",
    "        <li>\"It's just the method of the rhythm that keeps you surviving when you gotta cross the street\"</li>\n",
    "        <li>\"Gotta catch the bus and the train on time though I just wanna go home and sing some rhymes\"</li>\n",
    "    </ul>\n",
    "    <p>Thanks for the fun! I'll have to give <b>\"Get to Work\"</b> a listen to hear that rhythm you were channeling!</p>\n",
    "    </blockquote>\n",
    "</div>\n"
   ]
  },
  {
   "cell_type": "markdown",
   "id": "420b260c-2c36-42d4-836e-a2a54074df7b",
   "metadata": {},
   "source": [
    "Well Gemeni was certainly a good sport about it! But between you and me I'm not sure that they knew the song. But hey, I think the LLM should have been able to pick up the rhyme scheme at least. Especially since my responses tended to be short and usually wasn't answering the questions that we're being asked to me. But I guess LLMs don't care about the context like humans do. \n",
    "\n",
    "## Thanks for reading"
   ]
  },
  {
   "cell_type": "code",
   "execution_count": null,
   "id": "6275bf83-9cee-48e9-b331-910c90e2066c",
   "metadata": {},
   "outputs": [],
   "source": []
  }
 ],
 "metadata": {
  "citation-manager": {
   "items": {}
  },
  "kernelspec": {
   "display_name": "Python 3 (ipykernel)",
   "language": "python",
   "name": "python3"
  },
  "language_info": {
   "codemirror_mode": {
    "name": "ipython",
    "version": 3
   },
   "file_extension": ".py",
   "mimetype": "text/x-python",
   "name": "python",
   "nbconvert_exporter": "python",
   "pygments_lexer": "ipython3",
   "version": "3.10.12"
  }
 },
 "nbformat": 4,
 "nbformat_minor": 5
}
