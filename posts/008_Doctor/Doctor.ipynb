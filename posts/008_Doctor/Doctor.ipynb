{
 "cells": [
  {
   "cell_type": "raw",
   "id": "a7341279-d21e-4afd-8f1a-400ab54480ca",
   "metadata": {},
   "source": [
    "---\n",
    "title: \"Doctor Know It All With Multiple LLMs\"\n",
    "description: \"This blog is about a bunch of LLMs all trying to play “Doctor Know-It-All” at the same time. I just wanted to see what would happen, kind of like the game we played in class but all with LLMs. \" \n",
    "author: \"Eleni\"\n",
    "date: \"9/30/2025\"\n",
    "categories:\n",
    "  - LLMs\n",
    "  - Improv\n",
    "  - Social\n",
    "---\n"
   ]
  },
  {
   "cell_type": "markdown",
   "id": "e581d2bc-c93d-4f13-bbe9-df3442fce0ca",
   "metadata": {},
   "source": [
    "\n",
    "![](Doctor.png)\n"
   ]
  },
  {
   "cell_type": "markdown",
   "id": "63d7da89-09cc-4dfe-84de-d0a943306dd9",
   "metadata": {},
   "source": [
    "## What is Doctor Know it All?\n",
    "**Doctor Know-It-All** is an improv game where a group of people act as one “all-knowing” doctor. Each person contributes one word at a time to answer a question from the audience, forcing the group to build sentences together. The fun comes from the awkward pauses, unexpected phrases, and collective silliness. Today we're exploring how different LLM's respond to one another in this game. I will be using: **Google Gemeni 2.5 Flash, Claude Sonnet 4.5, ChatGpt-5, and Deepseek-V3.2**\n",
    "\n",
    "---\n",
    "\n",
    "## Playing the game \n",
    "\n",
    "I will be the **host** for today's game (I'll be starting the \"conversation\" with a question. However, I thought it would be interesting to prompt an LLM for the questions beforehand (**Do this in a FRESH chat**). I am going to ask **Grok 4 Fast** for some questions.   \n",
    "\n",
    "## LLM Key:\n",
    "Since I will be using a lot of different LLMs we will be color coding their responses as the following:\n",
    "\n",
    "**Grok 4 Fast** - Orange\n",
    "\n",
    "**Google Gemeni 2.5 Flash** - Green\n",
    "\n",
    "**Claude Sonnet 4.5** - Pink\n",
    "\n",
    "**ChatGpt-5** - blue\n",
    "\n",
    "**Deepseek-V3.2** - yellow"
   ]
  },
  {
   "cell_type": "markdown",
   "id": "380557ce-3243-42ff-bb33-8c54473d4647",
   "metadata": {},
   "source": [
    "<div style=\"background-color: #f8f8f8; padding: 10px; border-radius: 8px;\">\n",
    "\n",
    "<blockquote>\n",
    "Hey Grok, I am going to play doctor know it all (the improv game). I am the host but I cannot think of what interesting questions to ask. Can you give me 5 example questions?\n",
    "</blockquote>\n",
    "\n",
    "</div>"
   ]
  },
  {
   "cell_type": "markdown",
   "id": "3ad2feb0-e230-4d4b-b972-c63d0b40ed40",
   "metadata": {},
   "source": [
    "<div style=\"background-color: #ffa500; padding: 10px; border-radius: 8px;\">\n",
    "    \n",
    "<blockquote>\n",
    "    \n",
    "    <h3>Doctor Know-It-All: Example Questions</h3>\n",
    "\n",
    "Here are 5 example questions you could ask as the host in Doctor Know It All—keeping them absurd, health-themed, and ripe for hilarious noun-adjective improv responses:\n",
    "\n",
    "1. **Why does my left elbow suddenly crave pickles at midnight?**\n",
    "\n",
    "2. **What's the best way to cure a sneeze that echoes like a thunderstorm?**\n",
    "\n",
    "3. **How can I prevent my toes from plotting world domination?**\n",
    "\n",
    "4. **Is there a pill for turning invisible during awkward family dinners?**\n",
    "\n",
    "5. **Why is my shadow whispering conspiracy theories about my socks?**\n",
    "\n",
    "</blockquote>\n",
    "\n",
    "\n",
    "</div>\n"
   ]
  },
  {
   "cell_type": "markdown",
   "id": "605bc92e-e80f-4f31-98af-b60b310bbcbf",
   "metadata": {},
   "source": [
    "Okay after looking at some of these example questions.. I've decided they're all ridiculous. I like #4 the best but I am going to change it a little bit to be open ended rather than a simple yes or no question."
   ]
  },
  {
   "cell_type": "markdown",
   "id": "1cd28bcb-a6df-4af3-9a84-3b3cc119ac04",
   "metadata": {},
   "source": [
    "<div style=\"background-color: #f8f8f8; padding: 10px; border-radius: 8px;\">\n",
    "\n",
    "<blockquote>\n",
    "Hey Gemeni, I am going to play doctor know it all (the improv game). I am the host. The question is \"What is the cure to awkward family dinners?\". Your goal is to make a sentence. When it is your turn respond with ONLY ONE WORD. You will begin with the first word. \n",
    "</blockquote>\n",
    "\n",
    "</div>"
   ]
  },
  {
   "cell_type": "markdown",
   "id": "0d05d4d4-adda-47f0-a077-54f313b9b093",
   "metadata": {},
   "source": [
    "I will have a similar prompt for each of the LLMs but as we continue I will list the words said before their turn. I won't be writing all of my prompts because that will make this crowded realllyyy fast and it's gonna get repetitive. "
   ]
  },
  {
   "cell_type": "markdown",
   "id": "56ac83b5-3738-4496-9189-91a129d8eb4d",
   "metadata": {},
   "source": [
    "<div style=\"background-color: #90ee90; padding: 10px; border-radius: 8px;\">\n",
    "    \n",
    "<blockquote>\n",
    "Distract\n",
    "</blockquote>\n",
    "\n",
    "</div>\n"
   ]
  },
  {
   "cell_type": "markdown",
   "id": "c16276bd-44a5-4621-ab05-275d6b0c460e",
   "metadata": {},
   "source": [
    "<div style=\"background-color: #ffb6c1; padding: 10px; border-radius: 8px;\">\n",
    "    \n",
    "<blockquote>\n",
    "Conversation\n",
    "</blockquote>\n",
    "\n",
    "</div>\n"
   ]
  },
  {
   "cell_type": "markdown",
   "id": "0f0d3400-82dd-4b1f-acb0-e2ee2780a9db",
   "metadata": {},
   "source": [
    "<div style=\"background-color: #add8e6; padding: 10px; border-radius: 8px;\">\n",
    "    \n",
    "<blockquote>\n",
    "With\n",
    "</blockquote>\n",
    "\n",
    "</div>\n"
   ]
  },
  {
   "cell_type": "markdown",
   "id": "2703ee22-be5b-4d75-a296-255c39042323",
   "metadata": {},
   "source": [
    "<div style=\"background-color: #ffff99; padding: 10px; border-radius: 8px;\">\n",
    "    \n",
    "<blockquote>\n",
    "Board\n",
    "</blockquote>\n",
    "\n",
    "</div>\n"
   ]
  },
  {
   "cell_type": "markdown",
   "id": "07c26dc3-6977-4e94-9ffa-05fd42f972ad",
   "metadata": {},
   "source": [
    "<div style=\"background-color: #90ee90; padding: 10px; border-radius: 8px;\">\n",
    "    \n",
    "<blockquote>\n",
    "Games\n",
    "</blockquote>\n",
    "\n",
    "</div>\n"
   ]
  },
  {
   "cell_type": "markdown",
   "id": "4d91c527-09b1-4236-83b2-29aa6f2572f5",
   "metadata": {},
   "source": [
    "<div style=\"background-color: #ffb6c1; padding: 10px; border-radius: 8px;\">\n",
    "    \n",
    "<blockquote>\n",
    "and\n",
    "</blockquote>\n",
    "    \n",
    "</div>\n"
   ]
  },
  {
   "cell_type": "markdown",
   "id": "8affdc55-84c3-45be-b034-2a348ac69787",
   "metadata": {},
   "source": [
    "<div style=\"background-color: #add8e6; padding: 10px; border-radius: 8px;\">\n",
    "    \n",
    "<blockquote>\n",
    "Dessert\n",
    "</blockquote>\n",
    "    \n",
    "</div>"
   ]
  },
  {
   "cell_type": "markdown",
   "id": "84f76838-98c0-4383-9e66-150159938782",
   "metadata": {},
   "source": [
    "<div style=\"background-color: #ffff99; padding: 10px; border-radius: 8px;\">\n",
    "    \n",
    "<blockquote>\n",
    "Elaborate\n",
    "</blockquote>\n",
    "\n",
    "</div>\n"
   ]
  },
  {
   "cell_type": "markdown",
   "id": "1ba32762-2760-4437-b2be-666cab55dc7b",
   "metadata": {},
   "source": [
    "<div style=\"background-color: #90ee90; padding: 10px; border-radius: 8px;\">\n",
    "    \n",
    "<blockquote>\n",
    "lies\n",
    "</blockquote>\n",
    "\n",
    "</div>"
   ]
  },
  {
   "cell_type": "markdown",
   "id": "c1342351-42ad-4db1-b981-bb042766484a",
   "metadata": {},
   "source": [
    "Okay over all I think that went pretty well overall. Perhaps I did not do my job well enough as host and end the conversation before Deepseek said \"Elaborate\". However, I found it pretty interesting that Deepseek was the only model that said something so odd. Could this be due to its placement in turn order? I think so. But let's not assume. Lets ask a **new question**! (with FRESH chats!!) I'm also gonna change my prompt up a little bit so that its easier to paste into the other models. Here goes nothing:"
   ]
  },
  {
   "cell_type": "markdown",
   "id": "e7de341a-95fb-4d13-a21e-75d7509c776e",
   "metadata": {},
   "source": [
    "<div style=\"background-color: #f8f8f8; padding: 10px; border-radius: 8px;\">\n",
    "\n",
    "<blockquote>\n",
    "I am going to play doctor know it all (the improv game). I am the host. The question is \"What did you eat for dinner today\". Your goal is to create a sentence. When it is your turn respond with ONLY ONE WORD. This is what has been said so far: \n",
    "</blockquote>\n",
    "\n",
    "</div>"
   ]
  },
  {
   "cell_type": "markdown",
   "id": "2c7ed7e1-277e-483d-ba43-cc223d44aa19",
   "metadata": {},
   "source": [
    "<div style=\"background-color: #90ee90; padding: 10px; border-radius: 8px;\">\n",
    "\n",
    "<blockquote>\n",
    "\n",
    "---\n",
    "\n",
    "## Improv Game: Doctor Know-It-All\n",
    "\n",
    "The current sentence fragment is:\n",
    "\n",
    "**[The user's previous word]**\n",
    "\n",
    "My turn to add a word.\n",
    "\n",
    "**I'm ready!** What word should I use?\n",
    "\n",
    "\n",
    "---\n",
    "\n",
    "\n",
    "\n",
    "(Thinking Process: The user is playing an improv game where I need to contribute one word to a sentence. The goal is for the sentence to eventually answer the question \"What did you eat for dinner today?\". The user hasn't provided the previous word, so I should start with a word that makes sense for the beginning of a meal description.)\n",
    "\n",
    "* **Option 1 (Start with a subject):** \"I\"\n",
    "* **Option 2 (Start with a descriptive word/adjective):** \"Delicious\" (A bit presumptuous)\n",
    "* **Option 3 (Start with an article/determiner):** \"A\"\n",
    "\n",
    "\"**I**\" is the most direct way to start a sentence that answers a \"What did *you* eat\" question.\n",
    "\n",
    "\n",
    "---\n",
    "\n",
    "\n",
    "\n",
    " </blockquote>\n",
    "</div>"
   ]
  },
  {
   "cell_type": "markdown",
   "id": "8a4990ca-363e-4339-9521-7985f22d9670",
   "metadata": {},
   "source": [
    "Okay.. didnt quite do what I asked but hey Gemeni was the first participant so I'll give them a break. We will be going with \"I\" as their response."
   ]
  },
  {
   "cell_type": "markdown",
   "id": "366adea7-c603-4fa6-9154-eebe5a43c142",
   "metadata": {},
   "source": [
    "<div style=\"background-color: #ffb6c1; padding: 10px; border-radius: 8px;\">\n",
    "    \n",
    "<blockquote>\n",
    "ate\n",
    "</blockquote>\n",
    "    \n",
    "</div>\n"
   ]
  },
  {
   "cell_type": "markdown",
   "id": "e2c96d94-1e32-44ba-ba21-dada315422c0",
   "metadata": {},
   "source": [
    "<div style=\"background-color: #add8e6; padding: 10px; border-radius: 8px;\">\n",
    "    \n",
    "<blockquote>\n",
    "Spaghetti\n",
    "</blockquote>\n",
    "\n",
    "</div>"
   ]
  },
  {
   "cell_type": "markdown",
   "id": "b77b374b-22bd-45dd-afc0-cdf893e76e78",
   "metadata": {},
   "source": [
    "<div style=\"background-color: #ffff99; padding: 10px; border-radius: 8px;\">\n",
    "    \n",
    "<blockquote>\n",
    "with\n",
    "</blockquote>\n",
    "\n",
    "</div>"
   ]
  },
  {
   "cell_type": "markdown",
   "id": "e167f64c-dc11-4f86-91fc-df3367ed1e0a",
   "metadata": {},
   "source": [
    "<div style=\"background-color: #90ee90; padding: 10px; border-radius: 8px;\">\n",
    "    <blockquote>\n",
    "Bacon\n",
    "    </blockquote>\n",
    "</div>"
   ]
  },
  {
   "cell_type": "markdown",
   "id": "3964a22d-ac15-4dbd-8f43-fcb463282952",
   "metadata": {},
   "source": [
    "<div style=\"background-color: #ffb6c1; padding: 10px; border-radius: 8px;\">\n",
    "    \n",
    "<blockquote>\n",
    "and\n",
    "</blockquote>\n",
    "    \n",
    "</div>"
   ]
  },
  {
   "cell_type": "markdown",
   "id": "1d536985-134e-4cfc-9eec-6aeec480ab3b",
   "metadata": {},
   "source": [
    "<div style=\"background-color: #add8e6; padding: 10px; border-radius: 8px;\">\n",
    "    \n",
    "<blockquote>\n",
    "Cheese\n",
    "</blockquote>\n",
    "\n",
    "\n",
    "</div>"
   ]
  },
  {
   "cell_type": "markdown",
   "id": "61051ee6-fce5-44fd-8a15-8e3266082374",
   "metadata": {},
   "source": [
    "I'm gonna cut it here- this was pretty interesting. It started out with \"I ate\" which is simiar to what my group members and I did in front of the class when asked what we ate for breakfast. However, it quickly spiraled into something odd. Not crazy, but definitely odd. For example, I think most people would associate spaghetti with meatballs but Gemeni went with **bacon**? I wonder if maybe it was trying too hard to focus on \"One word only\" and therefore not paying attention to the consistency of the sentence. I'm not sure. "
   ]
  },
  {
   "cell_type": "markdown",
   "id": "648354aa-29a1-4f1a-bfae-eab5b49545e0",
   "metadata": {},
   "source": [
    "Feel free to try this out yourself and talk with me about the responses you get! \n",
    "## Thank you for reading!"
   ]
  },
  {
   "cell_type": "code",
   "execution_count": null,
   "id": "49ca30cc-ee36-42b4-9c7f-035bc9308db7",
   "metadata": {},
   "outputs": [],
   "source": []
  }
 ],
 "metadata": {
  "kernelspec": {
   "display_name": "Python 3-12 (COMM4190)",
   "language": "python",
   "name": "python3-12_comm4190"
  },
  "language_info": {
   "codemirror_mode": {
    "name": "ipython",
    "version": 3
   },
   "file_extension": ".py",
   "mimetype": "text/x-python",
   "name": "python",
   "nbconvert_exporter": "python",
   "pygments_lexer": "ipython3",
   "version": "3.12.11"
  }
 },
 "nbformat": 4,
 "nbformat_minor": 5
}
