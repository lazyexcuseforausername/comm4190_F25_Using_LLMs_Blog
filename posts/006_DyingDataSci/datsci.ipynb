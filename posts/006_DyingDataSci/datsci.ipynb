{
 "cells": [
  {
   "cell_type": "raw",
   "id": "a7341279-d21e-4afd-8f1a-400ab54480ca",
   "metadata": {},
   "source": [
    "---\n",
    "title: \"Are LLMs taking over the data science industry??\"\n",
    "description: \"Learning more about the implications of LLMs in the Data Science Industry.\" \n",
    "author: \"Eleni\"\n",
    "date: \"9/21/2025\"\n",
    "categories:\n",
    "  - LLMs\n",
    "  - Data Science\n",
    "  - Articles\n",
    "  - Career\n",
    "---\n"
   ]
  },
  {
   "cell_type": "markdown",
   "id": "86179d3e-44ee-4222-b9b2-75fe1354390a",
   "metadata": {},
   "source": [
    "Hey guys, I know most of us are minoring in data science from our ice breakers during the first few classes so I already planned on researching this topic but an interaction really pushed me over the edge recently. While reading my book (*Why Machines Learn*) I had someone walk up to me and start a conversation. He told me that he was a **data analyst** and while he finds LLMs pattern recognition fascinating he's **worried they'll put him out of a job**. As someone who hopes to go into the field someday, this concerned me, and I found an article that was pretty helpful & I wanted to share it with you all. \n",
    "\n",
    "## Summary  \n",
    "In *“Data Science Isn’t Dying — It’s Evolving: How AI Is Reshaping the Role”*, Nathan Rosidi argues that while AI is automating many parts of data science—like model training, basic data cleaning, and even visualization—data science itself is not going away. Instead, **the job is morphing:** humans are becoming more about guiding AI, interpreting results, dealing with messy data, and applying critical thinking and domain knowledge in ways machines can’t.\n",
    "\n",
    "## Key Takeaways  \n",
    "- AI tools can generate quick projects (e.g., running several ML algorithms, creating reports) from prompts, which speeds up work & increases efficiency\n",
    "- But tools are limited: they may fail to retrieve correct data sources, mis-handle bias in data, or mess up when context or domain knowledge matters. \n",
    "- Humans are still needed to set goals, choose which problems to solve, ensure data quality, frame questions, interpret AI outputs, and communicate results in useful ways.\n",
    "- To stay relevant, **data scientists should:** learn AI tooling, keep sharpening human skills (critical thinking, ethics, domain knowledge), build portfolios showing AI use, and focus on business impact rather than just technical metrics. \n",
    "\n",
    "## Reflection  \n",
    "Reading this made me think: LLMs are like power tools—they makes many tasks faster, but if you don’t know how to use it well, it can cut corners or go wrong. Even the makers of ChatGPT know this, with a disclaimer at the bottom of conversations with users that reads *ChatGPT can make mistakes. Check important info*. The human parts of data science (asking good questions, knowing the domain, checking for bias, explaining results) become even more important once you know this. The change seems less about losing jobs and more about shifting what skills are most valuable. \n",
    "\n",
    "---\n",
    "*P.S.* Here's a link to the article if you are interested:"
   ]
  },
  {
   "cell_type": "markdown",
   "id": "609b3f55-2e9c-4b39-a62e-0a88eb52e6d4",
   "metadata": {},
   "source": [
    "[Data Science Isn’t Dying — It’s Evolving: How AI Is Reshaping the Role](https://medium.com/data-science-collective/data-science-is-dead-again-why-the-role-keeps-evolving-not-disappearing-21ac8586a22a)\n"
   ]
  },
  {
   "cell_type": "markdown",
   "id": "63d7da89-09cc-4dfe-84de-d0a943306dd9",
   "metadata": {},
   "source": []
  },
  {
   "cell_type": "markdown",
   "id": "c263c21a-813f-499f-af5f-8a82b8e59c1f",
   "metadata": {},
   "source": []
  },
  {
   "cell_type": "code",
   "execution_count": null,
   "id": "dbd792d1-81d9-41f9-8e95-85ae25d43929",
   "metadata": {},
   "outputs": [],
   "source": []
  }
 ],
 "metadata": {
  "kernelspec": {
   "display_name": "Python 3-12 (COMM4190)",
   "language": "python",
   "name": "python3-12_comm4190"
  },
  "language_info": {
   "codemirror_mode": {
    "name": "ipython",
    "version": 3
   },
   "file_extension": ".py",
   "mimetype": "text/x-python",
   "name": "python",
   "nbconvert_exporter": "python",
   "pygments_lexer": "ipython3",
   "version": "3.12.11"
  }
 },
 "nbformat": 4,
 "nbformat_minor": 5
}
